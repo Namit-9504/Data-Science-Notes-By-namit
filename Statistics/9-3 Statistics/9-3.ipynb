{
 "cells": [
  {
   "cell_type": "markdown",
   "id": "ad2c2bbc-c909-404e-96f5-46ce7d7427f0",
   "metadata": {},
   "source": [
    "## See The Data Science Folder Contain is in a form of pdf"
   ]
  },
  {
   "cell_type": "markdown",
   "id": "bdf7fb51-bfa5-401a-93d9-afea465aae29",
   "metadata": {
    "tags": []
   },
   "source": [
    "## Uniform Distribusion"
   ]
  },
  {
   "cell_type": "markdown",
   "id": "c8edc1f3-7555-43ce-80a9-416250cf9a11",
   "metadata": {},
   "source": [
    "## Standard Normal Distribution"
   ]
  },
  {
   "cell_type": "markdown",
   "id": "e2c50b08-a2ce-49d2-85aa-48b59b6487c5",
   "metadata": {},
   "source": [
    "## Z Score Application & Z Table"
   ]
  },
  {
   "cell_type": "markdown",
   "id": "cad3197d-5392-4719-9d24-50bdec9a38a3",
   "metadata": {},
   "source": [
    "## Central Limit Theorem"
   ]
  },
  {
   "cell_type": "code",
   "execution_count": null,
   "id": "053ddcc9-49f0-42bd-b974-a900b7937460",
   "metadata": {},
   "outputs": [],
   "source": []
  }
 ],
 "metadata": {
  "kernelspec": {
   "display_name": "Python 3 (ipykernel)",
   "language": "python",
   "name": "python3"
  },
  "language_info": {
   "codemirror_mode": {
    "name": "ipython",
    "version": 3
   },
   "file_extension": ".py",
   "mimetype": "text/x-python",
   "name": "python",
   "nbconvert_exporter": "python",
   "pygments_lexer": "ipython3",
   "version": "3.10.8"
  }
 },
 "nbformat": 4,
 "nbformat_minor": 5
}
