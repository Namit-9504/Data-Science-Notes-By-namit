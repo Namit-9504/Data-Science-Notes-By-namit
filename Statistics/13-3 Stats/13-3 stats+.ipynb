{
 "cells": [
  {
   "cell_type": "markdown",
   "id": "bad3e09c-e404-45bb-a700-725eb39e4955",
   "metadata": {},
   "source": [
    "# See Data Science folder "
   ]
  },
  {
   "cell_type": "markdown",
   "id": "979991ea-cfb8-4d62-aaf0-4c67c9bb2b9e",
   "metadata": {},
   "source": [
    "## F Distributions"
   ]
  },
  {
   "cell_type": "markdown",
   "id": "7a3fbfd6-1793-4ba9-9e5b-acf9a7d3a103",
   "metadata": {},
   "source": [
    "## Variance Ratio Test (F test)"
   ]
  },
  {
   "cell_type": "markdown",
   "id": "1116f6fe-54b9-431f-8e79-311672148b77",
   "metadata": {},
   "source": [
    "## F test with Python"
   ]
  },
  {
   "cell_type": "code",
   "execution_count": 2,
   "id": "5cb023fe-72a7-44fc-b6e4-160363741035",
   "metadata": {},
   "outputs": [],
   "source": [
    "#Evidence to say that the two population variances are not equal.\n",
    "## Check we come to  conclusion whether one worker is better than the other\n",
    "\n",
    "worker1= [18, 19, 22, 25, 27, 28, 41, 45, 51, 55]\n",
    "worker2= [14, 15, 15, 17, 18, 22, 25, 25, 27, 34]"
   ]
  },
  {
   "cell_type": "code",
   "execution_count": 9,
   "id": "db581fe3-0529-46a1-8135-ba6ce5d63f81",
   "metadata": {},
   "outputs": [],
   "source": [
    "\n",
    "import numpy as np\n",
    "f_test = np.var(worker1)/np.var(worker2)\n"
   ]
  },
  {
   "cell_type": "code",
   "execution_count": 7,
   "id": "d1430fdf-353e-4199-b546-770523e5b7c1",
   "metadata": {},
   "outputs": [
    {
     "data": {
      "text/plain": [
       "4.387122002085506"
      ]
     },
     "execution_count": 7,
     "metadata": {},
     "output_type": "execute_result"
    }
   ],
   "source": [
    "f_test"
   ]
  },
  {
   "cell_type": "code",
   "execution_count": 15,
   "id": "6200970c-1cfd-494f-85cc-3876468f8a32",
   "metadata": {},
   "outputs": [],
   "source": [
    "## Degree of Freedom\n",
    "df1 = len(worker1)-1\n",
    "df2 = len(worker2)-1\n",
    "significance_value = 0.05"
   ]
  },
  {
   "cell_type": "code",
   "execution_count": 16,
   "id": "a1bce137-92a8-47fe-9efb-e6746d144da3",
   "metadata": {},
   "outputs": [],
   "source": [
    "import scipy.stats as stats\n",
    "critical_value=stats.f.ppf(q = 1-significance_value,dfn=df1 ,dfd=df2) ## here as we know q is a confidance interval it will be the 1-significance_value"
   ]
  },
  {
   "cell_type": "code",
   "execution_count": 17,
   "id": "4d48516a-a6a0-42b0-b9cf-5bc2acbb297b",
   "metadata": {},
   "outputs": [
    {
     "name": "stdout",
     "output_type": "stream",
     "text": [
      "we will reject the null hypothesis\n"
     ]
    }
   ],
   "source": [
    "if f_test > critical_value:\n",
    "    print(\"we will reject the null hypothesis\")\n",
    "else:\n",
    "    print(\"we will Accept the null hypothesis\")"
   ]
  },
  {
   "cell_type": "code",
   "execution_count": null,
   "id": "87eb67a0-cc5e-4a85-b45a-a680b82bd4af",
   "metadata": {},
   "outputs": [],
   "source": []
  }
 ],
 "metadata": {
  "kernelspec": {
   "display_name": "Python 3 (ipykernel)",
   "language": "python",
   "name": "python3"
  },
  "language_info": {
   "codemirror_mode": {
    "name": "ipython",
    "version": 3
   },
   "file_extension": ".py",
   "mimetype": "text/x-python",
   "name": "python",
   "nbconvert_exporter": "python",
   "pygments_lexer": "ipython3",
   "version": "3.10.8"
  }
 },
 "nbformat": 4,
 "nbformat_minor": 5
}
