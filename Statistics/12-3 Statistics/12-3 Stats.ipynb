{
 "cells": [
  {
   "cell_type": "markdown",
   "id": "97bfc27c-cc3e-4afa-9ddf-a008a49daa92",
   "metadata": {},
   "source": [
    "## See Data Science Folder"
   ]
  },
  {
   "cell_type": "markdown",
   "id": "cbd37759-16e5-4f54-bda3-ad16a0598abb",
   "metadata": {},
   "source": [
    "##  What is Chi Square Test"
   ]
  },
  {
   "cell_type": "markdown",
   "id": "724fa165-f084-47af-88bc-6d1f20ccc094",
   "metadata": {},
   "source": [
    "## Chi Square Test of Goodness"
   ]
  },
  {
   "cell_type": "markdown",
   "id": "964bf271-3162-48e8-8f4a-3ec41476ed94",
   "metadata": {},
   "source": [
    "## Chi Square with Python"
   ]
  },
  {
   "cell_type": "code",
   "execution_count": 1,
   "id": "db1a9821-e081-438a-b19c-1af49438e5ad",
   "metadata": {},
   "outputs": [],
   "source": [
    "import scipy.stats as stats\n",
    "import numpy as np"
   ]
  },
  {
   "cell_type": "code",
   "execution_count": 6,
   "id": "2136925e-99f8-4ca6-9000-1b02494ec565",
   "metadata": {},
   "outputs": [],
   "source": [
    "## No of Hours Student study daily in weekly Basis\n",
    "# Monday tuesday,wednesday, Thursday,Friday,Saturday,Sunday\n",
    "expected_data = [8,6,9,5,4,7,5]\n",
    "observed_data = [9,8,5,6,4,5,7]"
   ]
  },
  {
   "cell_type": "code",
   "execution_count": 7,
   "id": "f8b97a06-2fd8-452f-9863-fa28951adcfd",
   "metadata": {},
   "outputs": [
    {
     "data": {
      "text/plain": [
       "(44, 44)"
      ]
     },
     "execution_count": 7,
     "metadata": {},
     "output_type": "execute_result"
    }
   ],
   "source": [
    "sum(expected_data),sum(observed_data)"
   ]
  },
  {
   "cell_type": "code",
   "execution_count": 9,
   "id": "af5bcc37-6891-4fcb-81e9-4182b50d00fa",
   "metadata": {},
   "outputs": [],
   "source": [
    "## Chi Squre Goodness Of fit\n",
    "chisquare_test_statistics,p_value=stats.chisquare(observed_data,expected_data)"
   ]
  },
  {
   "cell_type": "code",
   "execution_count": 10,
   "id": "ce1818bf-796d-4733-b2c7-5995ff09b461",
   "metadata": {},
   "outputs": [
    {
     "name": "stdout",
     "output_type": "stream",
     "text": [
      "4.140873015873016\n",
      "0.6576190702287565\n"
     ]
    },
    {
     "data": {
      "text/plain": [
       "(None, None)"
      ]
     },
     "execution_count": 10,
     "metadata": {},
     "output_type": "execute_result"
    }
   ],
   "source": [
    "print(chisquare_test_statistics),print(p_value)"
   ]
  },
  {
   "cell_type": "code",
   "execution_count": 14,
   "id": "e09c3700-432e-441d-9261-67aea2dba093",
   "metadata": {},
   "outputs": [],
   "source": [
    "## Find The critical value\n",
    "significance=0.05\n",
    "dof=len(observed_data)-1\n",
    "critical_value=stats.chi2.ppf(1-significance,dof)"
   ]
  },
  {
   "cell_type": "code",
   "execution_count": 15,
   "id": "ef7606b3-f422-48d3-916b-de5a3ea00808",
   "metadata": {},
   "outputs": [
    {
     "data": {
      "text/plain": [
       "12.591587243743977"
      ]
     },
     "execution_count": 15,
     "metadata": {},
     "output_type": "execute_result"
    }
   ],
   "source": [
    "critical_value"
   ]
  },
  {
   "cell_type": "code",
   "execution_count": 16,
   "id": "b740bc49-98f5-44cb-93ba-1e2110414cbe",
   "metadata": {},
   "outputs": [
    {
     "name": "stdout",
     "output_type": "stream",
     "text": [
      "Accept The Null Hypothesis\n"
     ]
    }
   ],
   "source": [
    "if chisquare_test_statistics > critical_value:\n",
    "    print(\"Reject The Null Hypothesis\")\n",
    "else:\n",
    "    print('Accept The Null Hypothesis')"
   ]
  },
  {
   "cell_type": "code",
   "execution_count": null,
   "id": "31f940e9-b72b-4105-9212-b7b2e26a300e",
   "metadata": {},
   "outputs": [],
   "source": []
  },
  {
   "cell_type": "code",
   "execution_count": null,
   "id": "1e57cf69-20b0-47c9-ba9e-ae7c5a1b4e4d",
   "metadata": {},
   "outputs": [],
   "source": []
  },
  {
   "cell_type": "code",
   "execution_count": null,
   "id": "9ed68870-87a7-420f-a6d4-9344403cdf09",
   "metadata": {},
   "outputs": [],
   "source": []
  },
  {
   "cell_type": "code",
   "execution_count": null,
   "id": "3681335d-d8e6-48d5-b885-3ffd9a5a1418",
   "metadata": {},
   "outputs": [],
   "source": []
  },
  {
   "cell_type": "code",
   "execution_count": null,
   "id": "a7c7a54f-cd5d-4fa7-a26e-85b1950c3df8",
   "metadata": {},
   "outputs": [],
   "source": []
  },
  {
   "cell_type": "code",
   "execution_count": null,
   "id": "5f90f47a-a08a-4553-8a61-45811a66600f",
   "metadata": {},
   "outputs": [],
   "source": []
  },
  {
   "cell_type": "code",
   "execution_count": null,
   "id": "5c12a5a6-2f96-4742-8660-6f15c00bd645",
   "metadata": {},
   "outputs": [],
   "source": []
  }
 ],
 "metadata": {
  "kernelspec": {
   "display_name": "Python 3 (ipykernel)",
   "language": "python",
   "name": "python3"
  },
  "language_info": {
   "codemirror_mode": {
    "name": "ipython",
    "version": 3
   },
   "file_extension": ".py",
   "mimetype": "text/x-python",
   "name": "python",
   "nbconvert_exporter": "python",
   "pygments_lexer": "ipython3",
   "version": "3.10.8"
  }
 },
 "nbformat": 4,
 "nbformat_minor": 5
}
