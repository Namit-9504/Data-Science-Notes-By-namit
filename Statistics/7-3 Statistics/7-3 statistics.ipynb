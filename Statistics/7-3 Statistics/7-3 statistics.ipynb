{
 "cells": [
  {
   "cell_type": "markdown",
   "id": "805d029c-5b86-449c-80c4-2bc1af9bf1aa",
   "metadata": {},
   "source": [
    "### See DATA Science Folder"
   ]
  },
  {
   "cell_type": "markdown",
   "id": "187c8f21-7b0a-4e36-b75c-e9749d2e98a5",
   "metadata": {
    "tags": []
   },
   "source": [
    "## Measures of Central Tendency Part 2"
   ]
  },
  {
   "cell_type": "code",
   "execution_count": 1,
   "id": "83a80cdf-6707-464b-949d-8400f0b3a669",
   "metadata": {},
   "outputs": [],
   "source": [
    "### mean (Avarge)"
   ]
  },
  {
   "cell_type": "code",
   "execution_count": 2,
   "id": "04c93c65-83d0-41b5-8057-0e732ea45f24",
   "metadata": {},
   "outputs": [],
   "source": [
    "age=[12,13,45,16,18]"
   ]
  },
  {
   "cell_type": "code",
   "execution_count": 3,
   "id": "80eab38d-7b3d-4ebc-afc4-e80f0ab6ca06",
   "metadata": {},
   "outputs": [
    {
     "data": {
      "text/plain": [
       "20.8"
      ]
     },
     "execution_count": 3,
     "metadata": {},
     "output_type": "execute_result"
    }
   ],
   "source": [
    "(12+13+18+45+16)/5"
   ]
  },
  {
   "cell_type": "code",
   "execution_count": 4,
   "id": "c108b4bf-127e-4b10-865e-bace63443e6f",
   "metadata": {},
   "outputs": [
    {
     "data": {
      "text/plain": [
       "20.8"
      ]
     },
     "execution_count": 4,
     "metadata": {},
     "output_type": "execute_result"
    }
   ],
   "source": [
    "import numpy as np\n",
    "np.mean(age)"
   ]
  },
  {
   "cell_type": "code",
   "execution_count": 5,
   "id": "3f02a3a5-277d-49ce-b4b3-87dbc3816889",
   "metadata": {},
   "outputs": [],
   "source": [
    "weight =[49,56,32,18,52,26,32,14,52]"
   ]
  },
  {
   "cell_type": "code",
   "execution_count": 7,
   "id": "f3f023d4-6d40-434c-a8d9-e7fed056b8d7",
   "metadata": {},
   "outputs": [
    {
     "data": {
      "text/plain": [
       "36.77777777777778"
      ]
     },
     "execution_count": 7,
     "metadata": {},
     "output_type": "execute_result"
    }
   ],
   "source": [
    "np.mean(weight)"
   ]
  },
  {
   "cell_type": "code",
   "execution_count": 8,
   "id": "7cfeb2f4-2dbc-4ee8-9d21-ab1b3dc487cd",
   "metadata": {},
   "outputs": [],
   "source": [
    "weight =[49,56,32,18,52,26,32,14,52,1000]"
   ]
  },
  {
   "cell_type": "code",
   "execution_count": 9,
   "id": "926c231c-0c06-4880-a6e7-2e953a3b6de9",
   "metadata": {},
   "outputs": [
    {
     "data": {
      "text/plain": [
       "133.1"
      ]
     },
     "execution_count": 9,
     "metadata": {},
     "output_type": "execute_result"
    }
   ],
   "source": [
    "np.mean(weight)"
   ]
  },
  {
   "cell_type": "code",
   "execution_count": null,
   "id": "53f84b43-3e9c-4ff7-952d-636e4aaea5ec",
   "metadata": {},
   "outputs": [],
   "source": [
    "### median "
   ]
  },
  {
   "cell_type": "code",
   "execution_count": 10,
   "id": "4860c7b0-fc45-4da2-a830-5294a637904b",
   "metadata": {},
   "outputs": [
    {
     "data": {
      "text/plain": [
       "40.5"
      ]
     },
     "execution_count": 10,
     "metadata": {},
     "output_type": "execute_result"
    }
   ],
   "source": [
    "np.median(weight)"
   ]
  },
  {
   "cell_type": "code",
   "execution_count": 11,
   "id": "1d52050e-0e6e-4f7a-8f9a-1c82c5167c27",
   "metadata": {},
   "outputs": [],
   "source": [
    "### mode "
   ]
  },
  {
   "cell_type": "code",
   "execution_count": 12,
   "id": "63ba2a04-510d-4db8-8a08-b02f506cadd2",
   "metadata": {},
   "outputs": [],
   "source": [
    "from scipy import stats"
   ]
  },
  {
   "cell_type": "code",
   "execution_count": 13,
   "id": "dbcb5a6f-410c-4bfc-8012-27ea27e5758b",
   "metadata": {},
   "outputs": [
    {
     "name": "stderr",
     "output_type": "stream",
     "text": [
      "/tmp/ipykernel_97/1102139219.py:1: FutureWarning: Unlike other reduction functions (e.g. `skew`, `kurtosis`), the default behavior of `mode` typically preserves the axis it acts along. In SciPy 1.11.0, this behavior will change: the default value of `keepdims` will become False, the `axis` over which the statistic is taken will be eliminated, and the value None will no longer be accepted. Set `keepdims` to True or False to avoid this warning.\n",
      "  stats.mode(weight)\n"
     ]
    },
    {
     "data": {
      "text/plain": [
       "ModeResult(mode=array([32]), count=array([2]))"
      ]
     },
     "execution_count": 13,
     "metadata": {},
     "output_type": "execute_result"
    }
   ],
   "source": [
    "stats.mode(weight)"
   ]
  },
  {
   "cell_type": "markdown",
   "id": "0ceeb74b-b16b-4a14-b58f-1881af835c63",
   "metadata": {},
   "source": [
    "## Measures of Dispersion Part 2"
   ]
  },
  {
   "cell_type": "code",
   "execution_count": 1,
   "id": "20e1c177-39a1-4543-8a6c-8b00ba2bbc78",
   "metadata": {},
   "outputs": [],
   "source": [
    "ages = [12,23,56,21,18,96,23,12]"
   ]
  },
  {
   "cell_type": "code",
   "execution_count": 2,
   "id": "36557765-d362-4233-8557-3344b36a40a0",
   "metadata": {},
   "outputs": [],
   "source": [
    "import numpy as np "
   ]
  },
  {
   "cell_type": "code",
   "execution_count": 3,
   "id": "afe19001-d45b-4925-abd2-64e26f2dd74c",
   "metadata": {},
   "outputs": [],
   "source": [
    "mean = np.mean(ages)"
   ]
  },
  {
   "cell_type": "code",
   "execution_count": 4,
   "id": "60d0e13e-d90b-48e4-a229-d736ec9cd769",
   "metadata": {},
   "outputs": [
    {
     "data": {
      "text/plain": [
       "32.625"
      ]
     },
     "execution_count": 4,
     "metadata": {},
     "output_type": "execute_result"
    }
   ],
   "source": [
    "mean"
   ]
  },
  {
   "cell_type": "code",
   "execution_count": 5,
   "id": "f1055181-f84e-42f0-ae54-fbe6ddc03457",
   "metadata": {},
   "outputs": [],
   "source": [
    "var = np.var(ages)"
   ]
  },
  {
   "cell_type": "code",
   "execution_count": 6,
   "id": "68aeb956-1c10-44c3-8227-d60a268a7b34",
   "metadata": {},
   "outputs": [
    {
     "data": {
      "text/plain": [
       "743.484375"
      ]
     },
     "execution_count": 6,
     "metadata": {},
     "output_type": "execute_result"
    }
   ],
   "source": [
    "var"
   ]
  },
  {
   "cell_type": "code",
   "execution_count": 7,
   "id": "3c153b6e-3a02-4932-b17b-dc45eb94f3c7",
   "metadata": {},
   "outputs": [],
   "source": [
    "std = np.std(ages)"
   ]
  },
  {
   "cell_type": "code",
   "execution_count": 8,
   "id": "7416e4be-058d-4416-b90b-7349026bc217",
   "metadata": {},
   "outputs": [
    {
     "data": {
      "text/plain": [
       "27.266909890928236"
      ]
     },
     "execution_count": 8,
     "metadata": {},
     "output_type": "execute_result"
    }
   ],
   "source": [
    "std"
   ]
  },
  {
   "cell_type": "code",
   "execution_count": 9,
   "id": "79795885-4f2e-4f60-ae83-180c4f0021bd",
   "metadata": {},
   "outputs": [],
   "source": [
    "import pandas as pd"
   ]
  },
  {
   "cell_type": "code",
   "execution_count": 14,
   "id": "ea186195-4406-4acd-b81d-19ac0439acc8",
   "metadata": {},
   "outputs": [],
   "source": [
    "data = [[10,12,3,5000],[23,42,36,12],[96,58,12,53]]"
   ]
  },
  {
   "cell_type": "code",
   "execution_count": 15,
   "id": "93cef115-cf03-4610-b277-d98670c8432c",
   "metadata": {},
   "outputs": [
    {
     "data": {
      "text/plain": [
       "[[10, 12, 3, 5000], [23, 42, 36, 12], [96, 58, 12, 53]]"
      ]
     },
     "execution_count": 15,
     "metadata": {},
     "output_type": "execute_result"
    }
   ],
   "source": [
    "data"
   ]
  },
  {
   "cell_type": "code",
   "execution_count": 28,
   "id": "9a0b2d6d-f987-4030-b914-68b34402a5f3",
   "metadata": {},
   "outputs": [],
   "source": [
    "df = pd.DataFrame(data,columns=[\"A\",\"B\",\"C\",\"D\"])"
   ]
  },
  {
   "cell_type": "code",
   "execution_count": 29,
   "id": "c048dfca-526f-4884-98d9-763adf52fbe2",
   "metadata": {},
   "outputs": [
    {
     "data": {
      "text/html": [
       "<div>\n",
       "<style scoped>\n",
       "    .dataframe tbody tr th:only-of-type {\n",
       "        vertical-align: middle;\n",
       "    }\n",
       "\n",
       "    .dataframe tbody tr th {\n",
       "        vertical-align: top;\n",
       "    }\n",
       "\n",
       "    .dataframe thead th {\n",
       "        text-align: right;\n",
       "    }\n",
       "</style>\n",
       "<table border=\"1\" class=\"dataframe\">\n",
       "  <thead>\n",
       "    <tr style=\"text-align: right;\">\n",
       "      <th></th>\n",
       "      <th>A</th>\n",
       "      <th>B</th>\n",
       "      <th>C</th>\n",
       "      <th>D</th>\n",
       "    </tr>\n",
       "  </thead>\n",
       "  <tbody>\n",
       "    <tr>\n",
       "      <th>0</th>\n",
       "      <td>10</td>\n",
       "      <td>12</td>\n",
       "      <td>3</td>\n",
       "      <td>5000</td>\n",
       "    </tr>\n",
       "    <tr>\n",
       "      <th>1</th>\n",
       "      <td>23</td>\n",
       "      <td>42</td>\n",
       "      <td>36</td>\n",
       "      <td>12</td>\n",
       "    </tr>\n",
       "    <tr>\n",
       "      <th>2</th>\n",
       "      <td>96</td>\n",
       "      <td>58</td>\n",
       "      <td>12</td>\n",
       "      <td>53</td>\n",
       "    </tr>\n",
       "  </tbody>\n",
       "</table>\n",
       "</div>"
      ],
      "text/plain": [
       "    A   B   C     D\n",
       "0  10  12   3  5000\n",
       "1  23  42  36    12\n",
       "2  96  58  12    53"
      ]
     },
     "execution_count": 29,
     "metadata": {},
     "output_type": "execute_result"
    }
   ],
   "source": [
    "df"
   ]
  },
  {
   "cell_type": "code",
   "execution_count": 30,
   "id": "c3432bd7-70c0-4fae-9240-f74068cdbd8d",
   "metadata": {},
   "outputs": [
    {
     "data": {
      "text/plain": [
       "A    2.149000e+03\n",
       "B    5.453333e+02\n",
       "C    2.910000e+02\n",
       "D    8.225772e+06\n",
       "dtype: float64"
      ]
     },
     "execution_count": 30,
     "metadata": {},
     "output_type": "execute_result"
    }
   ],
   "source": [
    "df.var()"
   ]
  },
  {
   "cell_type": "code",
   "execution_count": 32,
   "id": "898d5db6-8c33-43a5-be7a-04fde29e8a4c",
   "metadata": {},
   "outputs": [
    {
     "data": {
      "text/plain": [
       "0    6.229199e+06\n",
       "1    1.802500e+02\n",
       "2    1.180917e+03\n",
       "dtype: float64"
      ]
     },
     "execution_count": 32,
     "metadata": {},
     "output_type": "execute_result"
    }
   ],
   "source": [
    "df.var(axis=1)"
   ]
  },
  {
   "cell_type": "markdown",
   "id": "28abbdeb-c234-44de-9960-ec2666f5a9cb",
   "metadata": {},
   "source": [
    "## Covariance Correlation Part 2"
   ]
  },
  {
   "cell_type": "code",
   "execution_count": 2,
   "id": "02c10228-715f-4dea-b6d1-dab774cc5daf",
   "metadata": {},
   "outputs": [],
   "source": [
    "import seaborn as sns"
   ]
  },
  {
   "cell_type": "code",
   "execution_count": 14,
   "id": "eb8e9700-47ee-4f2c-8e22-0c190f055fae",
   "metadata": {},
   "outputs": [
    {
     "data": {
      "text/html": [
       "<div>\n",
       "<style scoped>\n",
       "    .dataframe tbody tr th:only-of-type {\n",
       "        vertical-align: middle;\n",
       "    }\n",
       "\n",
       "    .dataframe tbody tr th {\n",
       "        vertical-align: top;\n",
       "    }\n",
       "\n",
       "    .dataframe thead th {\n",
       "        text-align: right;\n",
       "    }\n",
       "</style>\n",
       "<table border=\"1\" class=\"dataframe\">\n",
       "  <thead>\n",
       "    <tr style=\"text-align: right;\">\n",
       "      <th></th>\n",
       "      <th>Year</th>\n",
       "      <th>Country</th>\n",
       "      <th>Spending_USD</th>\n",
       "      <th>Life_Expectancy</th>\n",
       "    </tr>\n",
       "  </thead>\n",
       "  <tbody>\n",
       "    <tr>\n",
       "      <th>0</th>\n",
       "      <td>1970</td>\n",
       "      <td>Germany</td>\n",
       "      <td>252.311</td>\n",
       "      <td>70.6</td>\n",
       "    </tr>\n",
       "    <tr>\n",
       "      <th>1</th>\n",
       "      <td>1970</td>\n",
       "      <td>France</td>\n",
       "      <td>192.143</td>\n",
       "      <td>72.2</td>\n",
       "    </tr>\n",
       "    <tr>\n",
       "      <th>2</th>\n",
       "      <td>1970</td>\n",
       "      <td>Great Britain</td>\n",
       "      <td>123.993</td>\n",
       "      <td>71.9</td>\n",
       "    </tr>\n",
       "    <tr>\n",
       "      <th>3</th>\n",
       "      <td>1970</td>\n",
       "      <td>Japan</td>\n",
       "      <td>150.437</td>\n",
       "      <td>72.0</td>\n",
       "    </tr>\n",
       "    <tr>\n",
       "      <th>4</th>\n",
       "      <td>1970</td>\n",
       "      <td>USA</td>\n",
       "      <td>326.961</td>\n",
       "      <td>70.9</td>\n",
       "    </tr>\n",
       "  </tbody>\n",
       "</table>\n",
       "</div>"
      ],
      "text/plain": [
       "   Year        Country  Spending_USD  Life_Expectancy\n",
       "0  1970        Germany       252.311             70.6\n",
       "1  1970         France       192.143             72.2\n",
       "2  1970  Great Britain       123.993             71.9\n",
       "3  1970          Japan       150.437             72.0\n",
       "4  1970            USA       326.961             70.9"
      ]
     },
     "execution_count": 14,
     "metadata": {},
     "output_type": "execute_result"
    }
   ],
   "source": [
    "df = sns.load_dataset('healthexp')\n",
    "df.head()"
   ]
  },
  {
   "cell_type": "markdown",
   "id": "b11df87a-67de-45d1-b76c-cfd248e2a58c",
   "metadata": {},
   "source": [
    "### Covariance"
   ]
  },
  {
   "cell_type": "code",
   "execution_count": 16,
   "id": "922990d1-16e8-4908-9b99-59ad86f2543a",
   "metadata": {},
   "outputs": [],
   "source": [
    "import numpy as np"
   ]
  },
  {
   "cell_type": "code",
   "execution_count": 18,
   "id": "5ca95d38-8b01-487e-ac69-1dedb81339a6",
   "metadata": {},
   "outputs": [
    {
     "name": "stderr",
     "output_type": "stream",
     "text": [
      "/tmp/ipykernel_92/1545644723.py:1: FutureWarning: The default value of numeric_only in DataFrame.cov is deprecated. In a future version, it will default to False. Select only valid columns or specify the value of numeric_only to silence this warning.\n",
      "  df.cov()\n"
     ]
    },
    {
     "data": {
      "text/html": [
       "<div>\n",
       "<style scoped>\n",
       "    .dataframe tbody tr th:only-of-type {\n",
       "        vertical-align: middle;\n",
       "    }\n",
       "\n",
       "    .dataframe tbody tr th {\n",
       "        vertical-align: top;\n",
       "    }\n",
       "\n",
       "    .dataframe thead th {\n",
       "        text-align: right;\n",
       "    }\n",
       "</style>\n",
       "<table border=\"1\" class=\"dataframe\">\n",
       "  <thead>\n",
       "    <tr style=\"text-align: right;\">\n",
       "      <th></th>\n",
       "      <th>Year</th>\n",
       "      <th>Spending_USD</th>\n",
       "      <th>Life_Expectancy</th>\n",
       "    </tr>\n",
       "  </thead>\n",
       "  <tbody>\n",
       "    <tr>\n",
       "      <th>Year</th>\n",
       "      <td>201.098848</td>\n",
       "      <td>2.571883e+04</td>\n",
       "      <td>41.915454</td>\n",
       "    </tr>\n",
       "    <tr>\n",
       "      <th>Spending_USD</th>\n",
       "      <td>25718.827373</td>\n",
       "      <td>4.817761e+06</td>\n",
       "      <td>4166.800912</td>\n",
       "    </tr>\n",
       "    <tr>\n",
       "      <th>Life_Expectancy</th>\n",
       "      <td>41.915454</td>\n",
       "      <td>4.166801e+03</td>\n",
       "      <td>10.733902</td>\n",
       "    </tr>\n",
       "  </tbody>\n",
       "</table>\n",
       "</div>"
      ],
      "text/plain": [
       "                         Year  Spending_USD  Life_Expectancy\n",
       "Year               201.098848  2.571883e+04        41.915454\n",
       "Spending_USD     25718.827373  4.817761e+06      4166.800912\n",
       "Life_Expectancy     41.915454  4.166801e+03        10.733902"
      ]
     },
     "execution_count": 18,
     "metadata": {},
     "output_type": "execute_result"
    }
   ],
   "source": [
    "df.cov()"
   ]
  },
  {
   "cell_type": "markdown",
   "id": "6b95a594-640a-4dc8-be0d-e487560dfa3d",
   "metadata": {},
   "source": [
    "### Corelation"
   ]
  },
  {
   "cell_type": "code",
   "execution_count": 20,
   "id": "0987f36e-8cbd-4f6f-9260-4545456326fb",
   "metadata": {},
   "outputs": [
    {
     "name": "stderr",
     "output_type": "stream",
     "text": [
      "/tmp/ipykernel_92/3140184598.py:2: FutureWarning: The default value of numeric_only in DataFrame.corr is deprecated. In a future version, it will default to False. Select only valid columns or specify the value of numeric_only to silence this warning.\n",
      "  df.corr(method='spearman')\n"
     ]
    },
    {
     "data": {
      "text/html": [
       "<div>\n",
       "<style scoped>\n",
       "    .dataframe tbody tr th:only-of-type {\n",
       "        vertical-align: middle;\n",
       "    }\n",
       "\n",
       "    .dataframe tbody tr th {\n",
       "        vertical-align: top;\n",
       "    }\n",
       "\n",
       "    .dataframe thead th {\n",
       "        text-align: right;\n",
       "    }\n",
       "</style>\n",
       "<table border=\"1\" class=\"dataframe\">\n",
       "  <thead>\n",
       "    <tr style=\"text-align: right;\">\n",
       "      <th></th>\n",
       "      <th>Year</th>\n",
       "      <th>Spending_USD</th>\n",
       "      <th>Life_Expectancy</th>\n",
       "    </tr>\n",
       "  </thead>\n",
       "  <tbody>\n",
       "    <tr>\n",
       "      <th>Year</th>\n",
       "      <td>1.000000</td>\n",
       "      <td>0.931598</td>\n",
       "      <td>0.896117</td>\n",
       "    </tr>\n",
       "    <tr>\n",
       "      <th>Spending_USD</th>\n",
       "      <td>0.931598</td>\n",
       "      <td>1.000000</td>\n",
       "      <td>0.747407</td>\n",
       "    </tr>\n",
       "    <tr>\n",
       "      <th>Life_Expectancy</th>\n",
       "      <td>0.896117</td>\n",
       "      <td>0.747407</td>\n",
       "      <td>1.000000</td>\n",
       "    </tr>\n",
       "  </tbody>\n",
       "</table>\n",
       "</div>"
      ],
      "text/plain": [
       "                     Year  Spending_USD  Life_Expectancy\n",
       "Year             1.000000      0.931598         0.896117\n",
       "Spending_USD     0.931598      1.000000         0.747407\n",
       "Life_Expectancy  0.896117      0.747407         1.000000"
      ]
     },
     "execution_count": 20,
     "metadata": {},
     "output_type": "execute_result"
    }
   ],
   "source": [
    "### Spearman Corelation\n",
    "df.corr(method='spearman')"
   ]
  },
  {
   "cell_type": "code",
   "execution_count": 22,
   "id": "298b11aa-23fc-4924-adc4-ddd406a9d947",
   "metadata": {},
   "outputs": [
    {
     "name": "stderr",
     "output_type": "stream",
     "text": [
      "/tmp/ipykernel_92/207075374.py:2: FutureWarning: The default value of numeric_only in DataFrame.corr is deprecated. In a future version, it will default to False. Select only valid columns or specify the value of numeric_only to silence this warning.\n",
      "  df.corr() ## by defult the method is equal to the pearson\n"
     ]
    },
    {
     "data": {
      "text/html": [
       "<div>\n",
       "<style scoped>\n",
       "    .dataframe tbody tr th:only-of-type {\n",
       "        vertical-align: middle;\n",
       "    }\n",
       "\n",
       "    .dataframe tbody tr th {\n",
       "        vertical-align: top;\n",
       "    }\n",
       "\n",
       "    .dataframe thead th {\n",
       "        text-align: right;\n",
       "    }\n",
       "</style>\n",
       "<table border=\"1\" class=\"dataframe\">\n",
       "  <thead>\n",
       "    <tr style=\"text-align: right;\">\n",
       "      <th></th>\n",
       "      <th>Year</th>\n",
       "      <th>Spending_USD</th>\n",
       "      <th>Life_Expectancy</th>\n",
       "    </tr>\n",
       "  </thead>\n",
       "  <tbody>\n",
       "    <tr>\n",
       "      <th>Year</th>\n",
       "      <td>1.000000</td>\n",
       "      <td>0.826273</td>\n",
       "      <td>0.902175</td>\n",
       "    </tr>\n",
       "    <tr>\n",
       "      <th>Spending_USD</th>\n",
       "      <td>0.826273</td>\n",
       "      <td>1.000000</td>\n",
       "      <td>0.579430</td>\n",
       "    </tr>\n",
       "    <tr>\n",
       "      <th>Life_Expectancy</th>\n",
       "      <td>0.902175</td>\n",
       "      <td>0.579430</td>\n",
       "      <td>1.000000</td>\n",
       "    </tr>\n",
       "  </tbody>\n",
       "</table>\n",
       "</div>"
      ],
      "text/plain": [
       "                     Year  Spending_USD  Life_Expectancy\n",
       "Year             1.000000      0.826273         0.902175\n",
       "Spending_USD     0.826273      1.000000         0.579430\n",
       "Life_Expectancy  0.902175      0.579430         1.000000"
      ]
     },
     "execution_count": 22,
     "metadata": {},
     "output_type": "execute_result"
    }
   ],
   "source": [
    "### Pearson Corelation\n",
    "df.corr() ## by defult the method is equal to the pearson"
   ]
  },
  {
   "cell_type": "code",
   "execution_count": 25,
   "id": "9ce2fb4e-b148-434b-953e-80e7f7bd4f84",
   "metadata": {},
   "outputs": [],
   "source": [
    "df1 =sns.load_dataset('penguins')"
   ]
  },
  {
   "cell_type": "code",
   "execution_count": 26,
   "id": "c1470848-b9ec-43f3-a7cd-fe557239e5e7",
   "metadata": {},
   "outputs": [
    {
     "name": "stderr",
     "output_type": "stream",
     "text": [
      "/tmp/ipykernel_92/473017434.py:1: FutureWarning: The default value of numeric_only in DataFrame.corr is deprecated. In a future version, it will default to False. Select only valid columns or specify the value of numeric_only to silence this warning.\n",
      "  df1.corr()\n"
     ]
    },
    {
     "data": {
      "text/html": [
       "<div>\n",
       "<style scoped>\n",
       "    .dataframe tbody tr th:only-of-type {\n",
       "        vertical-align: middle;\n",
       "    }\n",
       "\n",
       "    .dataframe tbody tr th {\n",
       "        vertical-align: top;\n",
       "    }\n",
       "\n",
       "    .dataframe thead th {\n",
       "        text-align: right;\n",
       "    }\n",
       "</style>\n",
       "<table border=\"1\" class=\"dataframe\">\n",
       "  <thead>\n",
       "    <tr style=\"text-align: right;\">\n",
       "      <th></th>\n",
       "      <th>bill_length_mm</th>\n",
       "      <th>bill_depth_mm</th>\n",
       "      <th>flipper_length_mm</th>\n",
       "      <th>body_mass_g</th>\n",
       "    </tr>\n",
       "  </thead>\n",
       "  <tbody>\n",
       "    <tr>\n",
       "      <th>bill_length_mm</th>\n",
       "      <td>1.000000</td>\n",
       "      <td>-0.235053</td>\n",
       "      <td>0.656181</td>\n",
       "      <td>0.595110</td>\n",
       "    </tr>\n",
       "    <tr>\n",
       "      <th>bill_depth_mm</th>\n",
       "      <td>-0.235053</td>\n",
       "      <td>1.000000</td>\n",
       "      <td>-0.583851</td>\n",
       "      <td>-0.471916</td>\n",
       "    </tr>\n",
       "    <tr>\n",
       "      <th>flipper_length_mm</th>\n",
       "      <td>0.656181</td>\n",
       "      <td>-0.583851</td>\n",
       "      <td>1.000000</td>\n",
       "      <td>0.871202</td>\n",
       "    </tr>\n",
       "    <tr>\n",
       "      <th>body_mass_g</th>\n",
       "      <td>0.595110</td>\n",
       "      <td>-0.471916</td>\n",
       "      <td>0.871202</td>\n",
       "      <td>1.000000</td>\n",
       "    </tr>\n",
       "  </tbody>\n",
       "</table>\n",
       "</div>"
      ],
      "text/plain": [
       "                   bill_length_mm  bill_depth_mm  flipper_length_mm  \\\n",
       "bill_length_mm           1.000000      -0.235053           0.656181   \n",
       "bill_depth_mm           -0.235053       1.000000          -0.583851   \n",
       "flipper_length_mm        0.656181      -0.583851           1.000000   \n",
       "body_mass_g              0.595110      -0.471916           0.871202   \n",
       "\n",
       "                   body_mass_g  \n",
       "bill_length_mm        0.595110  \n",
       "bill_depth_mm        -0.471916  \n",
       "flipper_length_mm     0.871202  \n",
       "body_mass_g           1.000000  "
      ]
     },
     "execution_count": 26,
     "metadata": {},
     "output_type": "execute_result"
    }
   ],
   "source": [
    "df1.corr()"
   ]
  },
  {
   "cell_type": "code",
   "execution_count": 27,
   "id": "ca0f0a45-619b-4b50-9e8f-fbe363becf3a",
   "metadata": {},
   "outputs": [],
   "source": [
    "# pdf means Probablity Distrubution Function \n",
    "# It is created by smoothing the histrogram"
   ]
  },
  {
   "cell_type": "code",
   "execution_count": null,
   "id": "eb0db10e-4208-48a5-af83-d6085778ee7f",
   "metadata": {},
   "outputs": [],
   "source": []
  },
  {
   "cell_type": "code",
   "execution_count": null,
   "id": "e24a736b-1a36-406e-bc2f-96da9e5044fb",
   "metadata": {},
   "outputs": [],
   "source": []
  },
  {
   "cell_type": "code",
   "execution_count": null,
   "id": "35e7b04c-19f5-4b91-a5c6-b64434120039",
   "metadata": {},
   "outputs": [],
   "source": []
  },
  {
   "cell_type": "code",
   "execution_count": null,
   "id": "1f35af0c-f4b9-477a-aca1-a259d2aac23f",
   "metadata": {},
   "outputs": [],
   "source": []
  },
  {
   "cell_type": "code",
   "execution_count": null,
   "id": "dd3bc58b-0e39-4853-8ca2-9d15305c1eb8",
   "metadata": {},
   "outputs": [],
   "source": []
  },
  {
   "cell_type": "code",
   "execution_count": null,
   "id": "d3108c4d-aec9-441d-9ac5-c2349221e772",
   "metadata": {},
   "outputs": [],
   "source": []
  },
  {
   "cell_type": "code",
   "execution_count": null,
   "id": "833c58bc-d9a3-4ef8-a405-3e2a52b064ee",
   "metadata": {},
   "outputs": [],
   "source": []
  },
  {
   "cell_type": "code",
   "execution_count": null,
   "id": "91b998f5-4187-4168-9d72-525f26ff5ffc",
   "metadata": {},
   "outputs": [],
   "source": []
  }
 ],
 "metadata": {
  "kernelspec": {
   "display_name": "Python 3 (ipykernel)",
   "language": "python",
   "name": "python3"
  },
  "language_info": {
   "codemirror_mode": {
    "name": "ipython",
    "version": 3
   },
   "file_extension": ".py",
   "mimetype": "text/x-python",
   "name": "python",
   "nbconvert_exporter": "python",
   "pygments_lexer": "ipython3",
   "version": "3.10.8"
  }
 },
 "nbformat": 4,
 "nbformat_minor": 5
}
