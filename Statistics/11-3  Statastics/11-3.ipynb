{
 "cells": [
  {
   "cell_type": "markdown",
   "id": "8c47567f-d94a-42fd-b4e2-16f426ae72e9",
   "metadata": {},
   "source": [
    "# See The data Science Folder"
   ]
  },
  {
   "cell_type": "markdown",
   "id": "771759a2-fa94-4207-8f90-9e71dbad4067",
   "metadata": {},
   "source": [
    "## T Test Z Test"
   ]
  },
  {
   "cell_type": "markdown",
   "id": "85cceb8d-2cfc-4563-94d4-d9d0dcaffa29",
   "metadata": {},
   "source": [
    "## Type 1 Type 2 Error"
   ]
  },
  {
   "cell_type": "markdown",
   "id": "12dbb011-6f2d-4fe1-8bb3-f1506ee0e9d0",
   "metadata": {},
   "source": [
    "\n",
    "\n",
    "\n",
    "\n",
    "\n",
    "\n",
    "\n",
    "\n",
    "\n",
    "\n",
    "\n",
    "## Confidence Error Margin of Error"
   ]
  },
  {
   "cell_type": "code",
   "execution_count": null,
   "id": "f74d0aee-6c0f-4100-8c01-dc6881d45fde",
   "metadata": {},
   "outputs": [],
   "source": []
  }
 ],
 "metadata": {
  "kernelspec": {
   "display_name": "Python 3 (ipykernel)",
   "language": "python",
   "name": "python3"
  },
  "language_info": {
   "codemirror_mode": {
    "name": "ipython",
    "version": 3
   },
   "file_extension": ".py",
   "mimetype": "text/x-python",
   "name": "python",
   "nbconvert_exporter": "python",
   "pygments_lexer": "ipython3",
   "version": "3.10.8"
  }
 },
 "nbformat": 4,
 "nbformat_minor": 5
}
