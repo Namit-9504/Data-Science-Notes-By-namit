{
 "cells": [
  {
   "cell_type": "markdown",
   "id": "5d1d596c-f415-421d-8dea-c947bd9890d8",
   "metadata": {
    "tags": []
   },
   "source": [
    "## See The Data Science Folder"
   ]
  },
  {
   "cell_type": "markdown",
   "id": "d938517b-6ec1-447d-93d0-28f7cc11200a",
   "metadata": {},
   "source": [
    "## Anova"
   ]
  },
  {
   "cell_type": "markdown",
   "id": "a19171e6-0e43-427b-8bac-6b61a5c9844d",
   "metadata": {},
   "source": [
    "##  Assumptions in Anova"
   ]
  },
  {
   "cell_type": "markdown",
   "id": "ff60432f-557b-4f75-9fe8-27ed7bd474ea",
   "metadata": {},
   "source": [
    "## Types of Anova"
   ]
  },
  {
   "cell_type": "markdown",
   "id": "aea3951a-a6f8-479e-a892-7fc3a9b74d19",
   "metadata": {},
   "source": [
    "## Partitioning of variance in Anova"
   ]
  },
  {
   "cell_type": "code",
   "execution_count": null,
   "id": "f38aaa7d-4ba5-481c-a2c2-11676f663b31",
   "metadata": {},
   "outputs": [],
   "source": []
  },
  {
   "cell_type": "code",
   "execution_count": null,
   "id": "47441cb3-9d29-40dd-965b-3ee281600406",
   "metadata": {},
   "outputs": [],
   "source": []
  },
  {
   "cell_type": "code",
   "execution_count": null,
   "id": "80f65c5b-2c91-4a45-9987-0c9df17aa652",
   "metadata": {},
   "outputs": [],
   "source": []
  },
  {
   "cell_type": "code",
   "execution_count": null,
   "id": "5bc9434a-33cf-4cd1-9174-a547a84ddea8",
   "metadata": {},
   "outputs": [],
   "source": []
  },
  {
   "cell_type": "code",
   "execution_count": null,
   "id": "c5a9ef9b-5aad-490f-bcd1-76ead445785c",
   "metadata": {},
   "outputs": [],
   "source": []
  },
  {
   "cell_type": "code",
   "execution_count": null,
   "id": "531154b3-597b-4b14-9349-5b298f1d1222",
   "metadata": {},
   "outputs": [],
   "source": []
  },
  {
   "cell_type": "code",
   "execution_count": null,
   "id": "b652675e-62ce-4fe1-aa81-ab3a4ede566d",
   "metadata": {},
   "outputs": [],
   "source": []
  },
  {
   "cell_type": "code",
   "execution_count": null,
   "id": "9118c9c2-09f1-4071-829c-79555a20d875",
   "metadata": {},
   "outputs": [],
   "source": []
  },
  {
   "cell_type": "code",
   "execution_count": null,
   "id": "336652c6-aa30-4fee-b120-363b9ce3d5d6",
   "metadata": {},
   "outputs": [],
   "source": []
  },
  {
   "cell_type": "code",
   "execution_count": null,
   "id": "e5f4d324-5ef8-4a28-9452-ed7d3e58f298",
   "metadata": {},
   "outputs": [],
   "source": []
  },
  {
   "cell_type": "code",
   "execution_count": null,
   "id": "5801cce1-53d6-412e-aea3-e2df94d69d97",
   "metadata": {},
   "outputs": [],
   "source": []
  },
  {
   "cell_type": "code",
   "execution_count": null,
   "id": "e7af562b-aaef-4a81-973c-d77c968e844a",
   "metadata": {},
   "outputs": [],
   "source": []
  },
  {
   "cell_type": "code",
   "execution_count": null,
   "id": "dcffe3c9-9319-4880-8996-75ac44d86aaf",
   "metadata": {},
   "outputs": [],
   "source": []
  },
  {
   "cell_type": "code",
   "execution_count": null,
   "id": "6004cb1e-e5c9-4dbf-a939-c2a84279ce13",
   "metadata": {},
   "outputs": [],
   "source": []
  },
  {
   "cell_type": "code",
   "execution_count": null,
   "id": "e6281cb8-12de-427d-8412-d43947ada1df",
   "metadata": {},
   "outputs": [],
   "source": []
  },
  {
   "cell_type": "code",
   "execution_count": null,
   "id": "9142bc56-1def-4ffe-a67c-5506c62c0c1f",
   "metadata": {},
   "outputs": [],
   "source": []
  },
  {
   "cell_type": "code",
   "execution_count": null,
   "id": "66665c4b-cef3-4a4f-acd5-f1871200c113",
   "metadata": {},
   "outputs": [],
   "source": []
  },
  {
   "cell_type": "code",
   "execution_count": null,
   "id": "febd5bf2-b58b-419c-985b-6c96a02f12ba",
   "metadata": {},
   "outputs": [],
   "source": []
  },
  {
   "cell_type": "code",
   "execution_count": null,
   "id": "833e2f54-ee36-463e-bca9-1e34f933cf35",
   "metadata": {},
   "outputs": [],
   "source": []
  },
  {
   "cell_type": "code",
   "execution_count": null,
   "id": "c5139540-7f22-4df5-a266-9edd5af9c6fd",
   "metadata": {},
   "outputs": [],
   "source": []
  },
  {
   "cell_type": "code",
   "execution_count": null,
   "id": "ecac8b01-aa28-405c-ba78-c9897800d3f3",
   "metadata": {},
   "outputs": [],
   "source": []
  },
  {
   "cell_type": "code",
   "execution_count": null,
   "id": "f9265bf6-bc50-43be-97b6-45305fa869c1",
   "metadata": {},
   "outputs": [],
   "source": []
  },
  {
   "cell_type": "code",
   "execution_count": null,
   "id": "57f3a9c4-eb99-479e-9f12-42a72cd378aa",
   "metadata": {},
   "outputs": [],
   "source": []
  },
  {
   "cell_type": "code",
   "execution_count": null,
   "id": "8d92e20e-cb35-4c8c-8d0e-654a1aea782d",
   "metadata": {},
   "outputs": [],
   "source": []
  },
  {
   "cell_type": "code",
   "execution_count": null,
   "id": "69b38a2f-97ba-4a14-b018-bc5ec82e5a5d",
   "metadata": {},
   "outputs": [],
   "source": []
  },
  {
   "cell_type": "code",
   "execution_count": null,
   "id": "00fbdef7-ab6c-4c84-890f-ca7693b973cf",
   "metadata": {},
   "outputs": [],
   "source": []
  },
  {
   "cell_type": "code",
   "execution_count": null,
   "id": "47462288-6cce-41a6-9867-9ceb5505536f",
   "metadata": {},
   "outputs": [],
   "source": []
  },
  {
   "cell_type": "code",
   "execution_count": null,
   "id": "2b1d501e-fe38-4c30-86aa-5ed088e5b764",
   "metadata": {},
   "outputs": [],
   "source": []
  },
  {
   "cell_type": "code",
   "execution_count": null,
   "id": "5b60d25a-7a38-4de5-ad34-62c494bb5faf",
   "metadata": {},
   "outputs": [],
   "source": []
  },
  {
   "cell_type": "code",
   "execution_count": null,
   "id": "940f739b-cafc-4b5a-91e5-441d05dd8001",
   "metadata": {},
   "outputs": [],
   "source": []
  },
  {
   "cell_type": "code",
   "execution_count": null,
   "id": "5444d30f-27e1-418f-9f49-cefe68ec4765",
   "metadata": {},
   "outputs": [],
   "source": []
  },
  {
   "cell_type": "code",
   "execution_count": null,
   "id": "0c79bbc0-923e-49f9-88b0-eec883f0f711",
   "metadata": {},
   "outputs": [],
   "source": []
  },
  {
   "cell_type": "code",
   "execution_count": null,
   "id": "f09f370a-7119-448e-9e80-8399b8cb9ae9",
   "metadata": {},
   "outputs": [],
   "source": []
  },
  {
   "cell_type": "code",
   "execution_count": null,
   "id": "f0d6fd56-597b-4102-b0bd-cdfe01b785e3",
   "metadata": {},
   "outputs": [],
   "source": []
  },
  {
   "cell_type": "code",
   "execution_count": null,
   "id": "3982aeb1-2858-4eb6-ad83-79575a4db0e7",
   "metadata": {},
   "outputs": [],
   "source": []
  },
  {
   "cell_type": "code",
   "execution_count": null,
   "id": "a5895721-eb56-42f5-95f3-d41d5519b9bc",
   "metadata": {},
   "outputs": [],
   "source": []
  },
  {
   "cell_type": "code",
   "execution_count": null,
   "id": "49a58819-3600-4003-92c3-75074ca138f9",
   "metadata": {},
   "outputs": [],
   "source": []
  },
  {
   "cell_type": "code",
   "execution_count": null,
   "id": "dea430c0-6211-427e-ab65-13eccc3bfe57",
   "metadata": {},
   "outputs": [],
   "source": []
  },
  {
   "cell_type": "code",
   "execution_count": null,
   "id": "ba4f7cca-80b0-4ad5-98f5-efbcbf0d07c1",
   "metadata": {},
   "outputs": [],
   "source": []
  },
  {
   "cell_type": "code",
   "execution_count": null,
   "id": "2f1ffd51-2462-42f2-867b-20da89a1ef01",
   "metadata": {},
   "outputs": [],
   "source": []
  },
  {
   "cell_type": "code",
   "execution_count": null,
   "id": "87788033-5aa2-4608-a8b1-59dd9e3e473c",
   "metadata": {},
   "outputs": [],
   "source": []
  },
  {
   "cell_type": "code",
   "execution_count": null,
   "id": "3c7b8cd4-835f-4fb4-91a0-9a50125de837",
   "metadata": {},
   "outputs": [],
   "source": []
  },
  {
   "cell_type": "code",
   "execution_count": null,
   "id": "663427a3-dd03-4eb1-b6a0-613e4fcf003b",
   "metadata": {},
   "outputs": [],
   "source": []
  },
  {
   "cell_type": "code",
   "execution_count": null,
   "id": "d2aaa478-1c35-4bc3-bdbb-b675fc8941e6",
   "metadata": {},
   "outputs": [],
   "source": []
  },
  {
   "cell_type": "code",
   "execution_count": null,
   "id": "b5df830f-9e03-4e2e-b46a-f8ae449e7aaa",
   "metadata": {},
   "outputs": [],
   "source": []
  },
  {
   "cell_type": "code",
   "execution_count": null,
   "id": "91b2ef72-128e-4f8e-8f0c-f2b18892893e",
   "metadata": {},
   "outputs": [],
   "source": []
  },
  {
   "cell_type": "code",
   "execution_count": null,
   "id": "7fda01d6-434b-4a9a-bc66-dec66b01dc69",
   "metadata": {},
   "outputs": [],
   "source": []
  },
  {
   "cell_type": "code",
   "execution_count": null,
   "id": "045e2afc-3349-4b3d-8873-15d09680e50b",
   "metadata": {},
   "outputs": [],
   "source": []
  },
  {
   "cell_type": "code",
   "execution_count": null,
   "id": "aa50d88c-3a8e-4cb2-9379-7e7bfe132e42",
   "metadata": {},
   "outputs": [],
   "source": []
  },
  {
   "cell_type": "code",
   "execution_count": null,
   "id": "3101f8d8-887a-4573-8932-21151f1fcedb",
   "metadata": {},
   "outputs": [],
   "source": []
  },
  {
   "cell_type": "code",
   "execution_count": null,
   "id": "0bd4d146-05d6-49f8-8cbd-341b2a2426c5",
   "metadata": {},
   "outputs": [],
   "source": []
  },
  {
   "cell_type": "code",
   "execution_count": null,
   "id": "ed7649f5-70ed-46ed-9b01-6b1bc30deff2",
   "metadata": {},
   "outputs": [],
   "source": []
  }
 ],
 "metadata": {
  "kernelspec": {
   "display_name": "Python 3 (ipykernel)",
   "language": "python",
   "name": "python3"
  },
  "language_info": {
   "codemirror_mode": {
    "name": "ipython",
    "version": 3
   },
   "file_extension": ".py",
   "mimetype": "text/x-python",
   "name": "python",
   "nbconvert_exporter": "python",
   "pygments_lexer": "ipython3",
   "version": "3.10.8"
  }
 },
 "nbformat": 4,
 "nbformat_minor": 5
}
