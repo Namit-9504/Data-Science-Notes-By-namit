{
 "cells": [
  {
   "cell_type": "markdown",
   "id": "6bf95579-8794-4ec3-bf56-52acb7cf65be",
   "metadata": {
    "tags": []
   },
   "source": [
    "# See DATA Science Folder"
   ]
  },
  {
   "cell_type": "markdown",
   "id": "39e2738b-f0d9-405d-8616-e271c58d4a34",
   "metadata": {},
   "source": [
    "## Estimate "
   ]
  },
  {
   "cell_type": "markdown",
   "id": "2be7a1e0-a592-461f-b891-278707354806",
   "metadata": {},
   "source": [
    "## Hypothesis Testing Mechanism"
   ]
  },
  {
   "cell_type": "markdown",
   "id": "5ccd0c4b-81db-43c1-a928-a0609a979527",
   "metadata": {},
   "source": [
    "## P Value"
   ]
  },
  {
   "cell_type": "markdown",
   "id": "ac6eeace-ec0c-4708-8e5d-b83557725d63",
   "metadata": {},
   "source": [
    "## Z test with Examples"
   ]
  },
  {
   "cell_type": "markdown",
   "id": "0209033d-334f-4362-abe2-af67b7af3ff5",
   "metadata": {},
   "source": [
    "## Student T Distribution"
   ]
  },
  {
   "cell_type": "markdown",
   "id": "0b918ead-3d86-4823-8790-0235c4079f5a",
   "metadata": {},
   "source": [
    "## T Stats T test"
   ]
  },
  {
   "cell_type": "code",
   "execution_count": null,
   "id": "0567245a-cef5-459a-bfad-c5428a3675e7",
   "metadata": {},
   "outputs": [],
   "source": []
  }
 ],
 "metadata": {
  "kernelspec": {
   "display_name": "Python 3 (ipykernel)",
   "language": "python",
   "name": "python3"
  },
  "language_info": {
   "codemirror_mode": {
    "name": "ipython",
    "version": 3
   },
   "file_extension": ".py",
   "mimetype": "text/x-python",
   "name": "python",
   "nbconvert_exporter": "python",
   "pygments_lexer": "ipython3",
   "version": "3.10.8"
  }
 },
 "nbformat": 4,
 "nbformat_minor": 5
}
